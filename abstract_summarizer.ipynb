{
  "nbformat": 4,
  "nbformat_minor": 0,
  "metadata": {
    "colab": {
      "name": "abstract_summarizer.ipynb",
      "provenance": [],
      "collapsed_sections": []
    },
    "kernelspec": {
      "name": "python3",
      "display_name": "Python 3"
    }
  },
  "cells": [
    {
      "cell_type": "code",
      "metadata": {
        "id": "FIFgHd5RLGw2",
        "colab_type": "code",
        "colab": {
          "base_uri": "https://localhost:8080/",
          "height": 440
        },
        "outputId": "0cdb8833-ac85-4411-b935-69df3f74e977"
      },
      "source": [
        "!pip install transformers==2.8.0\n",
        "!pip install torch==1.4.0"
      ],
      "execution_count": 15,
      "outputs": [
        {
          "output_type": "stream",
          "text": [
            "Requirement already satisfied: transformers==2.8.0 in /usr/local/lib/python3.6/dist-packages (2.8.0)\n",
            "Requirement already satisfied: requests in /usr/local/lib/python3.6/dist-packages (from transformers==2.8.0) (2.23.0)\n",
            "Requirement already satisfied: filelock in /usr/local/lib/python3.6/dist-packages (from transformers==2.8.0) (3.0.12)\n",
            "Requirement already satisfied: sacremoses in /usr/local/lib/python3.6/dist-packages (from transformers==2.8.0) (0.0.43)\n",
            "Requirement already satisfied: tokenizers==0.5.2 in /usr/local/lib/python3.6/dist-packages (from transformers==2.8.0) (0.5.2)\n",
            "Requirement already satisfied: dataclasses; python_version < \"3.7\" in /usr/local/lib/python3.6/dist-packages (from transformers==2.8.0) (0.7)\n",
            "Requirement already satisfied: boto3 in /usr/local/lib/python3.6/dist-packages (from transformers==2.8.0) (1.14.9)\n",
            "Requirement already satisfied: sentencepiece in /usr/local/lib/python3.6/dist-packages (from transformers==2.8.0) (0.1.91)\n",
            "Requirement already satisfied: tqdm>=4.27 in /usr/local/lib/python3.6/dist-packages (from transformers==2.8.0) (4.41.1)\n",
            "Requirement already satisfied: regex!=2019.12.17 in /usr/local/lib/python3.6/dist-packages (from transformers==2.8.0) (2019.12.20)\n",
            "Requirement already satisfied: numpy in /usr/local/lib/python3.6/dist-packages (from transformers==2.8.0) (1.18.5)\n",
            "Requirement already satisfied: urllib3!=1.25.0,!=1.25.1,<1.26,>=1.21.1 in /usr/local/lib/python3.6/dist-packages (from requests->transformers==2.8.0) (1.24.3)\n",
            "Requirement already satisfied: idna<3,>=2.5 in /usr/local/lib/python3.6/dist-packages (from requests->transformers==2.8.0) (2.9)\n",
            "Requirement already satisfied: chardet<4,>=3.0.2 in /usr/local/lib/python3.6/dist-packages (from requests->transformers==2.8.0) (3.0.4)\n",
            "Requirement already satisfied: certifi>=2017.4.17 in /usr/local/lib/python3.6/dist-packages (from requests->transformers==2.8.0) (2020.6.20)\n",
            "Requirement already satisfied: six in /usr/local/lib/python3.6/dist-packages (from sacremoses->transformers==2.8.0) (1.12.0)\n",
            "Requirement already satisfied: click in /usr/local/lib/python3.6/dist-packages (from sacremoses->transformers==2.8.0) (7.1.2)\n",
            "Requirement already satisfied: joblib in /usr/local/lib/python3.6/dist-packages (from sacremoses->transformers==2.8.0) (0.15.1)\n",
            "Requirement already satisfied: s3transfer<0.4.0,>=0.3.0 in /usr/local/lib/python3.6/dist-packages (from boto3->transformers==2.8.0) (0.3.3)\n",
            "Requirement already satisfied: jmespath<1.0.0,>=0.7.1 in /usr/local/lib/python3.6/dist-packages (from boto3->transformers==2.8.0) (0.10.0)\n",
            "Requirement already satisfied: botocore<1.18.0,>=1.17.9 in /usr/local/lib/python3.6/dist-packages (from boto3->transformers==2.8.0) (1.17.9)\n",
            "Requirement already satisfied: docutils<0.16,>=0.10 in /usr/local/lib/python3.6/dist-packages (from botocore<1.18.0,>=1.17.9->boto3->transformers==2.8.0) (0.15.2)\n",
            "Requirement already satisfied: python-dateutil<3.0.0,>=2.1 in /usr/local/lib/python3.6/dist-packages (from botocore<1.18.0,>=1.17.9->boto3->transformers==2.8.0) (2.8.1)\n",
            "Requirement already satisfied: torch==1.4.0 in /usr/local/lib/python3.6/dist-packages (1.4.0)\n"
          ],
          "name": "stdout"
        }
      ]
    },
    {
      "cell_type": "markdown",
      "metadata": {
        "id": "qo0w8anGQhQ5",
        "colab_type": "text"
      },
      "source": [
        "##DS2 Abstract Summarizer\n",
        "This solution uses the T5 transformer from the hugging face library as it is convenient and an efficient model to use for the purpose of abstract summarization."
      ]
    },
    {
      "cell_type": "code",
      "metadata": {
        "id": "fynNZbBmYMSU",
        "colab_type": "code",
        "colab": {}
      },
      "source": [
        "import torch\n",
        "import json\n",
        "import pandas as pd\n",
        "from transformers import T5Tokenizer, T5ForConditionalGeneration, T5Config\n",
        "from gensim.summarization.summarizer import summarize"
      ],
      "execution_count": 3,
      "outputs": []
    },
    {
      "cell_type": "code",
      "metadata": {
        "id": "--Q4uRarWOAM",
        "colab_type": "code",
        "colab": {
          "base_uri": "https://localhost:8080/",
          "height": 242
        },
        "outputId": "f6efd4d4-53dc-4140-a946-33c87a291620"
      },
      "source": [
        "paragraphs = pd.read_excel('TASK.xlsx', headers=True) #load the dataset\n",
        "paragraphs['introduction'] = paragraphs['Unnamed: 1'] #cleanup columns\n",
        "paragraphs = paragraphs.drop(columns=['TEST DATASET','Unnamed: 1'],axis=1)\n",
        "paragraphs = paragraphs.drop(paragraphs.index[0])#cleanup rows\n",
        "new_index = list(range(0,len(paragraphs)))#reorder index\n",
        "paragraphs['index'] = new_index\n",
        "paragraphs = paragraphs.set_index('index')\n",
        "print(len(paragraphs))\n",
        "paragraphs.head()"
      ],
      "execution_count": 4,
      "outputs": [
        {
          "output_type": "stream",
          "text": [
            "1000\n"
          ],
          "name": "stdout"
        },
        {
          "output_type": "execute_result",
          "data": {
            "text/html": [
              "<div>\n",
              "<style scoped>\n",
              "    .dataframe tbody tr th:only-of-type {\n",
              "        vertical-align: middle;\n",
              "    }\n",
              "\n",
              "    .dataframe tbody tr th {\n",
              "        vertical-align: top;\n",
              "    }\n",
              "\n",
              "    .dataframe thead th {\n",
              "        text-align: right;\n",
              "    }\n",
              "</style>\n",
              "<table border=\"1\" class=\"dataframe\">\n",
              "  <thead>\n",
              "    <tr style=\"text-align: right;\">\n",
              "      <th></th>\n",
              "      <th>introduction</th>\n",
              "    </tr>\n",
              "    <tr>\n",
              "      <th>index</th>\n",
              "      <th></th>\n",
              "    </tr>\n",
              "  </thead>\n",
              "  <tbody>\n",
              "    <tr>\n",
              "      <th>0</th>\n",
              "      <td>Acnesol Gel is an antibiotic that fights bacte...</td>\n",
              "    </tr>\n",
              "    <tr>\n",
              "      <th>1</th>\n",
              "      <td>Ambrodil Syrup is used for treating various re...</td>\n",
              "    </tr>\n",
              "    <tr>\n",
              "      <th>2</th>\n",
              "      <td>Augmentin 625 Duo Tablet is a penicillin-type ...</td>\n",
              "    </tr>\n",
              "    <tr>\n",
              "      <th>3</th>\n",
              "      <td>Azithral 500 Tablet is an antibiotic used to t...</td>\n",
              "    </tr>\n",
              "    <tr>\n",
              "      <th>4</th>\n",
              "      <td>Alkasol Oral Solution is a medicine used in th...</td>\n",
              "    </tr>\n",
              "  </tbody>\n",
              "</table>\n",
              "</div>"
            ],
            "text/plain": [
              "                                            introduction\n",
              "index                                                   \n",
              "0      Acnesol Gel is an antibiotic that fights bacte...\n",
              "1      Ambrodil Syrup is used for treating various re...\n",
              "2      Augmentin 625 Duo Tablet is a penicillin-type ...\n",
              "3      Azithral 500 Tablet is an antibiotic used to t...\n",
              "4      Alkasol Oral Solution is a medicine used in th..."
            ]
          },
          "metadata": {
            "tags": []
          },
          "execution_count": 4
        }
      ]
    },
    {
      "cell_type": "code",
      "metadata": {
        "id": "WMyyP5ttWbE-",
        "colab_type": "code",
        "colab": {}
      },
      "source": [
        "model = T5ForConditionalGeneration.from_pretrained('t5-small') #loading pretrained t5 model\n",
        "tokenizer = T5Tokenizer.from_pretrained('t5-small') #loading the pretrained t5 tokenizer\n",
        "device = torch.device('cpu')"
      ],
      "execution_count": 5,
      "outputs": []
    },
    {
      "cell_type": "code",
      "metadata": {
        "id": "RhHpdV_vNieo",
        "colab_type": "code",
        "colab": {}
      },
      "source": [
        "def abstract_summarizer(text,len):\n",
        "  preprocess_text = text.strip().replace(\"\\n\",\"\")\n",
        "  t5_prepared_Text = \"summarize: \"+preprocess_text\n",
        "  tokenized_text = tokenizer.encode(t5_prepared_Text, return_tensors=\"pt\").to(device)\n",
        "\n",
        "  # summmarizing the content using the t5 model\n",
        "  try:\n",
        "     summary_ids = model.generate(tokenized_text,\n",
        "                                        num_beams=4,\n",
        "                                        no_repeat_ngram_size=2,\n",
        "                                        min_length=len,\n",
        "                                        max_length=len,\n",
        "                                        early_stopping=True)\n",
        "  except:\n",
        "    text = summarize(text,ratio=0.2, word_count=512, split=False)\n",
        "    preprocess_text = text.strip().replace(\"\\n\",\"\")\n",
        "    t5_prepared_Text = \"summarize: \"+preprocess_text\n",
        "    tokenized_text = tokenizer.encode(t5_prepared_Text, return_tensors=\"pt\").to(device)\n",
        "    summary_ids = model.generate(tokenized_text,\n",
        "                                        num_beams=4,\n",
        "                                        no_repeat_ngram_size=2,\n",
        "                                        min_length=len,\n",
        "                                        max_length=len,\n",
        "                                        early_stopping=True)\n",
        "  \n",
        "  output = tokenizer.decode(summary_ids[0], skip_special_tokens=True)\n",
        "  return output"
      ],
      "execution_count": 6,
      "outputs": []
    },
    {
      "cell_type": "code",
      "metadata": {
        "id": "73OkSk7xXMzO",
        "colab_type": "code",
        "colab": {
          "base_uri": "https://localhost:8080/",
          "height": 225
        },
        "outputId": "81adc1f2-68ff-4052-c3cb-493c68cfb960"
      },
      "source": [
        "abstract_summary =[]\n",
        "sum_len=int(input('What is the desired word count of the summary? Ideal length is around 50 '))\n",
        "for i in paragraphs.introduction:\n",
        "  abstract_summary.append(abstract_summarizer(i,sum_len))\n",
        "\n",
        "paragraphs['abstract'] = abstract_summary\n",
        "#execute the following code to output the code as an excel file marked as 'output.xlsx'\n",
        "#paragraphs.to_excel(\"output.xlsx\")\n",
        "paragraphs.head()"
      ],
      "execution_count": 11,
      "outputs": [
        {
          "output_type": "execute_result",
          "data": {
            "text/html": [
              "<div>\n",
              "<style scoped>\n",
              "    .dataframe tbody tr th:only-of-type {\n",
              "        vertical-align: middle;\n",
              "    }\n",
              "\n",
              "    .dataframe tbody tr th {\n",
              "        vertical-align: top;\n",
              "    }\n",
              "\n",
              "    .dataframe thead th {\n",
              "        text-align: right;\n",
              "    }\n",
              "</style>\n",
              "<table border=\"1\" class=\"dataframe\">\n",
              "  <thead>\n",
              "    <tr style=\"text-align: right;\">\n",
              "      <th></th>\n",
              "      <th>introduction</th>\n",
              "      <th>abstract</th>\n",
              "    </tr>\n",
              "    <tr>\n",
              "      <th>index</th>\n",
              "      <th></th>\n",
              "      <th></th>\n",
              "    </tr>\n",
              "  </thead>\n",
              "  <tbody>\n",
              "    <tr>\n",
              "      <th>0</th>\n",
              "      <td>Acnesol Gel is an antibiotic that fights bacte...</td>\n",
              "      <td>Acnesol Gel is only meant for external use and...</td>\n",
              "    </tr>\n",
              "    <tr>\n",
              "      <th>1</th>\n",
              "      <td>Ambrodil Syrup is used for treating various re...</td>\n",
              "      <td>Ambrodil Syrup is used for treating various re...</td>\n",
              "    </tr>\n",
              "    <tr>\n",
              "      <th>2</th>\n",
              "      <td>Augmentin 625 Duo Tablet is a penicillin-type ...</td>\n",
              "      <td>Augmentin 625 Duo Tablet is a penicillin-type ...</td>\n",
              "    </tr>\n",
              "    <tr>\n",
              "      <th>3</th>\n",
              "      <td>Azithral 500 Tablet is an antibiotic used to t...</td>\n",
              "      <td>azithral 500 Tablet is an antibiotic used to t...</td>\n",
              "    </tr>\n",
              "    <tr>\n",
              "      <th>4</th>\n",
              "      <td>Alkasol Oral Solution is a medicine used in th...</td>\n",
              "      <td>alkasol Oral Solution can be taken with or wit...</td>\n",
              "    </tr>\n",
              "  </tbody>\n",
              "</table>\n",
              "</div>"
            ],
            "text/plain": [
              "                                            introduction                                           abstract\n",
              "index                                                                                                      \n",
              "0      Acnesol Gel is an antibiotic that fights bacte...  Acnesol Gel is only meant for external use and...\n",
              "1      Ambrodil Syrup is used for treating various re...  Ambrodil Syrup is used for treating various re...\n",
              "2      Augmentin 625 Duo Tablet is a penicillin-type ...  Augmentin 625 Duo Tablet is a penicillin-type ...\n",
              "3      Azithral 500 Tablet is an antibiotic used to t...  azithral 500 Tablet is an antibiotic used to t...\n",
              "4      Alkasol Oral Solution is a medicine used in th...  alkasol Oral Solution can be taken with or wit..."
            ]
          },
          "metadata": {
            "tags": []
          },
          "execution_count": 11
        }
      ]
    }
  ]
}